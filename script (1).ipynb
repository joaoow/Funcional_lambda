{
  "nbformat": 4,
  "nbformat_minor": 0,
  "metadata": {
    "colab": {
      "provenance": []
    },
    "kernelspec": {
      "name": "python3",
      "display_name": "Python 3"
    },
    "language_info": {
      "name": "python"
    }
  },
  "cells": [
    {
      "cell_type": "code",
      "source": [
        "veiculos = ['aviao', 'carro', 'navio', 'onibus']\n",
        "\n",
        "f_maiuscula  = lambda nome: str.upper(nome)\n",
        "\n",
        "nomes_maiusculos = list(map(f_maiuscula, veiculos))\n",
        "\n",
        "print(f'nomes maiusculos = {nomes_maiusculos}')\n"
      ],
      "metadata": {
        "colab": {
          "base_uri": "https://localhost:8080/"
        },
        "id": "7qO6-RLTEexa",
        "outputId": "7f44b511-1cd7-49e9-89f4-17e54d742b35"
      },
      "execution_count": 3,
      "outputs": [
        {
          "output_type": "stream",
          "name": "stdout",
          "text": [
            "nomes maiusculos = ['AVIAO', 'CARRO', 'NAVIO', 'ONIBUS']\n"
          ]
        }
      ]
    },
    {
      "cell_type": "code",
      "source": [
        "#Programação funcional imprimir números pares\n",
        "\n",
        "lista = [0,1,1,2,3,5,8,13,21,34]\n",
        "\n",
        "#divide o x por 2 e se o resto da divisao for igual a 0\n",
        "#significa que o numero é par e retorna um verdadeiro ou falso\n",
        "fTesteParidade = lambda x: x % 2 == 0\n",
        "print(f'teste de fTesteParidade(5) = {fTesteParidade(5)}')\n",
        "pares = list(filter(fTesteParidade, lista))\n",
        "print(f'lista de numeros pares = {pares}')\n",
        "\n",
        "#list cria uma lista,o filter vai filtrar cada um dos numeros\n",
        "#cujo eles sejam verdadeiros ou seja, numeros pares\n",
        "\n",
        "\n",
        "\n",
        "\n"
      ],
      "metadata": {
        "colab": {
          "base_uri": "https://localhost:8080/"
        },
        "id": "I491mEKGGx8m",
        "outputId": "86d507d3-5743-4325-fc90-9a6378f843a3"
      },
      "execution_count": 4,
      "outputs": [
        {
          "output_type": "stream",
          "name": "stdout",
          "text": [
            "teste de fTesteParidade(5) = False\n",
            "lista de numeros pares = [0, 2, 8, 34]\n"
          ]
        }
      ]
    }
  ]
}